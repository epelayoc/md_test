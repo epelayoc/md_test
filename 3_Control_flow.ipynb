{
 "cells": [
  {
   "cell_type": "raw",
   "id": "12811900",
   "metadata": {
    "lines_to_next_cell": 0
   },
   "source": [
    "---\n",
    "title: #3 - Control flow\n",
    "author: Enrique Pelayo | uc3m\n",
    "typora-copy-images-to: ./images\n",
    "---"
   ]
  },
  {
   "cell_type": "markdown",
   "id": "a985588f",
   "metadata": {},
   "source": [
    "<img src=\"images/Decision.jpg",
    "<h2><center><font size=\"5\">[ #3 ] Control flow</font></center><h2>\n",
    "<h5><center>Enrique Pelayo Campillos</center><h5>"
   ]
  },
  {
   "cell_type": "markdown",
   "id": "a61cf2d4",
   "metadata": {},
   "source": [
    "---\n",
    "\n",
    "<font size=\"5\">[ #3 ] Control flow</font>"
   ]
  },
  {
   "cell_type": "markdown",
   "id": "6578fda0",
   "metadata": {
    "lines_to_next_cell": 0
   },
   "source": [
    "[TOC]\n",
    "\n",
    "# **Conditionals**\n",
    "\n",
    "> **A conditional statement controls the flow of a program depending whether a condition is True or False.**\n",
    "\n",
    "## if statement\n",
    "\n",
    "**Simple IF statement**. It checks a condition and, if it is True, do some actions, otherwise, the program will continue .\n",
    "\n",
    "```mermaid\n",
    "graph LR\n",
    "A2(Begin) --> C2{cond?} \n",
    "C2 --> |yes| Y2[Sentences]\n",
    "Y2 --> F2\n",
    "C2 --> |no| F2\n",
    "F2(End) \n",
    "```"
   ]
  },
  {
   "cell_type": "code",
   "execution_count": null,
   "id": "aad4b295",
   "metadata": {},
   "outputs": [],
   "source": [
    "# Simple IF statement\n",
    "if x > 0 :\n",
    "    print('x is positive')\n",
    "    \n",
    "# Nesting simple IF statements\n",
    "a, b = 3, 2\n",
    "if (a > b):\n",
    "  print(\"a is greater than b...\")\n",
    "  if (a % 2 == 1):\n",
    "    print(\"...and a is also odd...\")\n",
    "  print(\"...other statement in the suite of the first if...\")\n",
    "print(\"...main execution suite...\")"
   ]
  },
  {
   "cell_type": "markdown",
   "id": "9e9ff1e0",
   "metadata": {
    "lines_to_next_cell": 0
   },
   "source": [
    "---\n",
    "## if-else statement\n",
    "\n",
    "**IF-ELSE statement**. It checks a condition and, if it is True, do some actions, otherwise, do other actions and, then the program will continue normally.\n",
    "\n",
    "```mermaid\n",
    "graph LR\n",
    "A(Begin) --> C{cond?} \n",
    "C --> |yes| Y[Sentences.Y]\n",
    "C --> |no| N[Sentences.N]\n",
    "Y --> F\n",
    "N --> F\n",
    "F(End) \n",
    "```"
   ]
  },
  {
   "cell_type": "code",
   "execution_count": null,
   "id": "6a6683dd",
   "metadata": {},
   "outputs": [],
   "source": [
    "if x%2 == 0 :\n",
    "    print('x is even')\n",
    "else :\n",
    "    print('x is odd')"
   ]
  },
  {
   "cell_type": "markdown",
   "id": "ee79c712",
   "metadata": {},
   "source": [
    "---\n",
    "\n",
    "## if-elif-else statement\n",
    "\n",
    "**IF-ELSE multiple statement**. It checks a condition and, if it is True, do some actions, otherwise, check the rest of conditions until one of them is true, then the program will continue normally. In other programming languages, this type of conditional statement is also known as \"switch\"."
   ]
  },
  {
   "cell_type": "markdown",
   "id": "1cde4084",
   "metadata": {
    "lines_to_next_cell": 0
   },
   "source": [
    "```mermaid\n",
    "graph LR\n",
    "A2(Begin) --> C1{C1?} \n",
    "C1 --> |yes| Y1[Sentences_1]\n",
    "Y1 --> F\n",
    "C1 --> |no| C2{C2?} \n",
    "C2 --> |yes| Y2[Sentences_2]\n",
    "Y2 --> F\n",
    "C2 --> |no| Y3[Sentences_3] \n",
    "Y3 --> F(End) \n",
    "```"
   ]
  },
  {
   "cell_type": "code",
   "execution_count": null,
   "id": "3e1b63bc",
   "metadata": {},
   "outputs": [],
   "source": [
    "if x < y:\n",
    "    print('x is less than y')\n",
    "elif x > y: # here is no limit on the number of ELIF statements. \n",
    "    print('x is greater than y')\n",
    "else:\n",
    "    print('x and y are equal')"
   ]
  },
  {
   "cell_type": "markdown",
   "id": "32deb7aa",
   "metadata": {},
   "source": [
    "---\n",
    "\n",
    "## Other formats\n",
    "\n",
    "**In-line simple if statement.**"
   ]
  },
  {
   "cell_type": "markdown",
   "id": "2aa841e4",
   "metadata": {},
   "source": [
    "```\n",
    "\"if\" expression \":\" suite\n",
    "\"if\" expression: suite 1; suite 2; ...; suite n\n",
    "```"
   ]
  },
  {
   "cell_type": "code",
   "execution_count": null,
   "id": "3522280d",
   "metadata": {},
   "outputs": [],
   "source": [
    "a = 2\n",
    "b = 3\n",
    "if a < b: print(\"This is...\"); print(a)"
   ]
  },
  {
   "cell_type": "markdown",
   "id": "59f57cdd",
   "metadata": {},
   "source": [
    "**Conditional expression.** It is also known as \"ternary operator\".\n",
    "\n",
    "```\n",
    "expression \"if\" expression \"else\" expression \n",
    "```"
   ]
  },
  {
   "cell_type": "code",
   "execution_count": null,
   "id": "a4336a75",
   "metadata": {},
   "outputs": [],
   "source": [
    "age = 20\n",
    "category = \"minor\" if age < 18 else \"adult\"\n",
    "print(category)"
   ]
  },
  {
   "cell_type": "markdown",
   "id": "ea4368ce",
   "metadata": {},
   "source": [
    "# **< Coding >**\n",
    "\n",
    "1. Write a program that given the 3 angles of triangles, checks whether is valid (the sum must be 180).\n",
    "\n",
    "* Inputs: 45, 45, 90\n",
    "* Expected output:`The triangle: 45, 45, 90 is valid.`\n",
    "\n",
    "2. Write a function `check_even()` that given an integer, returns \"odd\" or \"even\" depending on whether it is an odd or even number. Use `print()` in a line to print the function output. Write the condition as a **conditional expression.** (\"ternary operator\"). \n",
    "- Input: 4\n",
    "- Expected output: `The number is even`\n",
    "\n",
    "3. Write a program that given a quantitative grade, prints out the qualitative value.\n",
    "\n",
    "\t```\n",
    "\tA if input in [9-10]\n",
    "\tB if input in [7-9)\n",
    "\tC if input in [5-7)\n",
    "\tD if input < 5\n",
    "\t```\n",
    "\n",
    "* Input: 7.5 (test limit values like 7, 5, 9, 10 as an input)\n",
    "* Expected output: `Your grade is B.`\n",
    "\n",
    "# **Control loops**\n",
    "\n",
    "## While\n",
    "\n",
    "> **While statement**. It firstly checks a *stop condition*, and, if it is True, a set of statements are executed. Then, the stop condition is checked again. This process is repeated until the condition is False. This loop *can potentially be infinite* (due to bugs, errors or other coding issues).  `else` statement is optional and will be executed after finishing the loop. This statement will NOT be executed when the loop is terminated by a break statement.\n",
    "\n",
    "```mermaid\n",
    "graph LR\n",
    "A2(Init control vars) --> C1{Cond?} \n",
    "C1 --> |yes| Y1[Step sentences]\n",
    "Y1 --> C1\n",
    "C1 --> |no| Y3[Sentences] \n",
    "Y3 --> F(End) \n",
    "```"
   ]
  },
  {
   "cell_type": "code",
   "execution_count": null,
   "id": "2b4f337c",
   "metadata": {},
   "outputs": [],
   "source": [
    "i = 0 \n",
    "while i < 5:\n",
    "  print(i)\n",
    "  i = i + 1\n",
    "else:\n",
    "  print(\"Done\")"
   ]
  },
  {
   "cell_type": "markdown",
   "id": "c09a294d",
   "metadata": {},
   "source": [
    "---\n",
    "\n",
    "## For\n",
    "\n",
    ">  **For statement**. It iterates over an *iterable sequence* of elements and, once, all the elements have been visited the loop ends. Elements from the iterable sequence are created with the iterator.  `else` statement is optional and will be executed after finishing the loop.\n"
   ]
  },
  {
   "cell_type": "markdown",
   "id": "e6245e0f",
   "metadata": {},
   "source": [
    "```mermaid\n",
    "graph LR\n",
    "A2(Sentences) --> C1{Iterable?} \n",
    "C1 --> |yes| Y1[Get next iterable]\n",
    "Y1 --> Y2[Sentences]\n",
    "Y2 --> C1\n",
    "C1 --> |no| Y3[Sentences] \n",
    "Y3 --> F(End) \n",
    "```\n",
    "\n",
    "For statements can be *iterated* through:\n",
    "\n",
    "- a list, \n",
    "- `range`\n",
    "- `enumerate`: an enumerated list.\n",
    "\n",
    "---\n",
    "## For examples"
   ]
  },
  {
   "cell_type": "code",
   "execution_count": null,
   "id": "6a2a3ac8",
   "metadata": {},
   "outputs": [],
   "source": [
    "# List\n",
    "list1 = [1, 5, 4, 2]\n",
    "list2 = []\n",
    "for i in list1:\n",
    "  print(i,)\n",
    "  list2.append(i**2) # Square of list1\n",
    "  \n",
    "# Enumerate\n",
    "list2 = []\n",
    "for n,i in enumerate(list1):\n",
    "  print(n,i)\n",
    "  list2.append(i**2) # Square of list1\n",
    "  \n",
    "# Range  \n",
    "for i in range(0, 10, 2): \n",
    "  print(str(i)+\",\",end=\"\")"
   ]
  },
  {
   "cell_type": "markdown",
   "id": "f0adadf7",
   "metadata": {},
   "source": [
    "---\n",
    "\n",
    "## Range\n",
    "\n",
    "> The **range**  constructor is an iterator that generates an iterable sequence of elements.\n",
    "\n",
    "`range([start,] stop[, step])` (simplified definitions from the [official documentation](https://docs.python.org/3/library/stdtypes.html#range))\n",
    "\n",
    "Parameters:\n",
    "\n",
    "- `start`(optional): the value of the start parameter (or 0 if the parameter was not supplied)\n",
    "- `stop`: the value of the stop parameter\n",
    "- `step`(optional): the value of the step parameter (or 1 if the parameter was not supplied). Always third element."
   ]
  },
  {
   "cell_type": "code",
   "execution_count": null,
   "id": "3bfeae3e",
   "metadata": {},
   "outputs": [],
   "source": [
    "# 10 numbers between 0 and 9: 0,1,2,3,4,5,6,7,8,9\n",
    "for i in range (0,10): \n",
    "  print(str(i)+\",\",end=\"\")\n",
    "print()\n",
    "\n",
    "#10 numbers between 10 and 0 (not included): 10,9,8,7,6,5,4,3,2,1\n",
    "for i in range (10, 0, -1): \n",
    "  print(str(i)+\",\",end=\"\")\n",
    "print()\n",
    "\n",
    "#Ranges can be sliced\n",
    "# 5 numbers between 0 and 5 (not included): 0,1,2,3,4,\n",
    "for i in range (0,10)[:5]: \n",
    "  print(str(i)+\",\",end=\"\")\n",
    "print()"
   ]
  },
  {
   "cell_type": "markdown",
   "id": "7c8a9e41",
   "metadata": {},
   "source": [
    "## Stopping the loop\n",
    "\n",
    "- **break statement**. The `break` statement breaks out of the innermost enclosing `for` or `while ` loop.\n",
    "- **continue statement**. The `continue` statement continues with the next iteration of the loop.\n",
    "- **pass statement** does nothing. The `pass` statement is a null statement. \n",
    "\n",
    "A `break` statement executed in the first suite terminates the `while ` loop without executing the `else` clause’s suite. A continue statement executed in the first suite skips the rest of the suite and goes back to testing the expression.\n",
    "\n",
    " A `break` statement executed in the first suite terminates the `for` loop without executing the else clause’s suite. A `continue` statement executed in the first suite skips the rest of the suite and continues with the next item, or with the else clause if there is no next item.\n",
    "\n",
    "Examples:"
   ]
  },
  {
   "cell_type": "code",
   "execution_count": null,
   "id": "ccbf3211",
   "metadata": {},
   "outputs": [],
   "source": [
    "#Prints only the first even number\n",
    "for n in range(1, 10):\n",
    "  if n % 2 == 0:\n",
    "    print(n)\n",
    "    break\n",
    "\n",
    "#Prints only the odd numbers\n",
    "for n in range(1, 10):\n",
    "  if n % 2 == 0:\n",
    "    continue\n",
    "  else:\n",
    "    print(n)"
   ]
  },
  {
   "cell_type": "markdown",
   "id": "61d847fe",
   "metadata": {},
   "source": [
    "## Iterators / `enumerate`\n",
    "\n",
    "> **Iterator** in Python is simply an object that can be iterated upon. An object which will return data, one element at a time. An object is called **iterable** if we can get an iterator from it. \n",
    "\n",
    "Most built-in containers in Python like: `list`, `tuple`, `string` etc. are iterables.  The `iter()` function returns an iterator from them. We use the `next()` function to manually iterate through all the items of an iterator. When we reach the end and there is no more data to be returned, it will raise an exception. \n",
    "\n",
    "Internally, the `for` loop creates an iterator object. The `enumerate()` method adds counter to an iterable and returns it. The returned object is an enumerated object. Following is an example."
   ]
  },
  {
   "cell_type": "code",
   "execution_count": null,
   "id": "74f90689",
   "metadata": {},
   "outputs": [],
   "source": [
    "my_list = ['A', 'B', 'C'] # define a list\n",
    "my_iter = iter(my_list) # get an iterator using iter()\n",
    "\n",
    "# iterate through it using next():\n",
    "print(next(my_iter)) # Output: A\n",
    "print(next(my_iter)) # Output: B\n",
    "...\n",
    "\n",
    "# iterate through it using 'for':\n",
    "for element in my_list:\n",
    "   print(element) # Outputs: A, B, C\n",
    "    \n",
    "# iterate through it using 'enumerate':\n",
    "for count,element in enumerate(my_list):\n",
    "   print(count,': ', element) # Outputs: 0: A, 1: B, 2: C"
   ]
  },
  {
   "cell_type": "markdown",
   "id": "11f2f93d",
   "metadata": {},
   "source": [
    "# < Coding >\n",
    "\n",
    "4. Write a program that prints out the numbers from 0 to 10 (only even numbers). Use `while` and `for` loops (with `in` and iterators)."
   ]
  },
  {
   "cell_type": "markdown",
   "id": "edc36bd9",
   "metadata": {},
   "source": [
    "* Input: no input\n",
    "* Expected output:\n",
    "\n",
    "```\n",
    "0\n",
    "2\n",
    "4\n",
    "6\n",
    "8\n",
    "10\n",
    "```\n",
    "\n",
    "5. Given an integer number, n, print a wedge of stars as follows."
   ]
  },
  {
   "cell_type": "markdown",
   "id": "44b640e4",
   "metadata": {},
   "source": [
    "* Input: 5\n",
    "* Expected output:\n",
    "\n",
    "```\n",
    "*\n",
    "**\n",
    "***\n",
    "****\n",
    "*****\n",
    "```"
   ]
  }
 ],
 "metadata": {
  "jupytext": {
   "cell_metadata_filter": "-all",
   "main_language": "python",
   "notebook_metadata_filter": "-all"
  },
  "kernelspec": {
   "display_name": "Python 3 (ipykernel)",
   "language": "python",
   "name": "python3"
  },
  "language_info": {
   "codemirror_mode": {
    "name": "ipython",
    "version": 3
   },
   "file_extension": ".py",
   "mimetype": "text/x-python",
   "name": "python",
   "nbconvert_exporter": "python",
   "pygments_lexer": "ipython3",
   "version": "3.10.4"
  }
 },
 "nbformat": 4,
 "nbformat_minor": 5
}
